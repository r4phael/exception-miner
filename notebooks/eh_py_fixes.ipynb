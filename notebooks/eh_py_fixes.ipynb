{
 "cells": [
  {
   "cell_type": "code",
   "execution_count": 13,
   "metadata": {},
   "outputs": [],
   "source": [
    "import pandas as pd\n",
    "import os\n",
    "\n",
    "def read_csvs(path):\n",
    "    dfs = []\n",
    "    for file in os.listdir(path):\n",
    "        if file.endswith(\".csv\"):\n",
    "            df = pd.read_csv(path + file)\n",
    "            dfs.append(df)\n",
    "    return pd.concat(dfs, ignore_index=True)\n"
   ]
  },
  {
   "cell_type": "code",
   "execution_count": 14,
   "metadata": {},
   "outputs": [],
   "source": [
    "df = read_csvs(path = \"/home/r4ph/desenv/phd/exception-miner/output/fixes/\")"
   ]
  },
  {
   "cell_type": "code",
   "execution_count": 15,
   "metadata": {},
   "outputs": [
    {
     "data": {
      "text/plain": [
       "729"
      ]
     },
     "execution_count": 15,
     "metadata": {},
     "output_type": "execute_result"
    }
   ],
   "source": [
    "len(df.file.unique())"
   ]
  },
  {
   "cell_type": "code",
   "execution_count": 17,
   "metadata": {},
   "outputs": [],
   "source": [
    "df_rq5 = df.agg({'file': ['count'], 'function': ['count'], 'n_try_pass': ['sum'], 'n_generic_except': ['sum'], 'n_nested_try': ['sum'], \n",
    "                 'n_bare_except': ['sum'], 'n_captures_misplaced_bare_raise': ['sum'], 'n_captures_broad_raise' : ['sum'], 'n_bare_raise_finally' : ['sum'] })"
   ]
  },
  {
   "cell_type": "code",
   "execution_count": 18,
   "metadata": {},
   "outputs": [
    {
     "data": {
      "text/html": [
       "<div>\n",
       "<style scoped>\n",
       "    .dataframe tbody tr th:only-of-type {\n",
       "        vertical-align: middle;\n",
       "    }\n",
       "\n",
       "    .dataframe tbody tr th {\n",
       "        vertical-align: top;\n",
       "    }\n",
       "\n",
       "    .dataframe thead th {\n",
       "        text-align: right;\n",
       "    }\n",
       "</style>\n",
       "<table border=\"1\" class=\"dataframe\">\n",
       "  <thead>\n",
       "    <tr style=\"text-align: right;\">\n",
       "      <th></th>\n",
       "      <th>file</th>\n",
       "      <th>function</th>\n",
       "      <th>n_try_pass</th>\n",
       "      <th>n_generic_except</th>\n",
       "      <th>n_nested_try</th>\n",
       "      <th>n_bare_except</th>\n",
       "      <th>n_captures_misplaced_bare_raise</th>\n",
       "      <th>n_captures_broad_raise</th>\n",
       "      <th>n_bare_raise_finally</th>\n",
       "    </tr>\n",
       "  </thead>\n",
       "  <tbody>\n",
       "    <tr>\n",
       "      <th>count</th>\n",
       "      <td>24044.0</td>\n",
       "      <td>24044.0</td>\n",
       "      <td>NaN</td>\n",
       "      <td>NaN</td>\n",
       "      <td>NaN</td>\n",
       "      <td>NaN</td>\n",
       "      <td>NaN</td>\n",
       "      <td>NaN</td>\n",
       "      <td>NaN</td>\n",
       "    </tr>\n",
       "    <tr>\n",
       "      <th>sum</th>\n",
       "      <td>NaN</td>\n",
       "      <td>NaN</td>\n",
       "      <td>529.0</td>\n",
       "      <td>642.0</td>\n",
       "      <td>40.0</td>\n",
       "      <td>150.0</td>\n",
       "      <td>9.0</td>\n",
       "      <td>397.0</td>\n",
       "      <td>0.0</td>\n",
       "    </tr>\n",
       "  </tbody>\n",
       "</table>\n",
       "</div>"
      ],
      "text/plain": [
       "          file  function  n_try_pass  n_generic_except  n_nested_try  \\\n",
       "count  24044.0   24044.0         NaN               NaN           NaN   \n",
       "sum        NaN       NaN       529.0             642.0          40.0   \n",
       "\n",
       "       n_bare_except  n_captures_misplaced_bare_raise  n_captures_broad_raise  \\\n",
       "count            NaN                              NaN                     NaN   \n",
       "sum            150.0                              9.0                   397.0   \n",
       "\n",
       "       n_bare_raise_finally  \n",
       "count                   NaN  \n",
       "sum                     0.0  "
      ]
     },
     "execution_count": 18,
     "metadata": {},
     "output_type": "execute_result"
    }
   ],
   "source": [
    "df_rq5"
   ]
  },
  {
   "cell_type": "code",
   "execution_count": 19,
   "metadata": {},
   "outputs": [
    {
     "data": {
      "text/html": [
       "<div>\n",
       "<style scoped>\n",
       "    .dataframe tbody tr th:only-of-type {\n",
       "        vertical-align: middle;\n",
       "    }\n",
       "\n",
       "    .dataframe tbody tr th {\n",
       "        vertical-align: top;\n",
       "    }\n",
       "\n",
       "    .dataframe thead th {\n",
       "        text-align: right;\n",
       "    }\n",
       "</style>\n",
       "<table border=\"1\" class=\"dataframe\">\n",
       "  <thead>\n",
       "    <tr style=\"text-align: right;\">\n",
       "      <th></th>\n",
       "      <th>file</th>\n",
       "      <th>function</th>\n",
       "      <th>n_try_pass</th>\n",
       "      <th>n_generic_except</th>\n",
       "      <th>n_nested_try</th>\n",
       "      <th>n_bare_except</th>\n",
       "      <th>n_captures_misplaced_bare_raise</th>\n",
       "      <th>n_captures_broad_raise</th>\n",
       "      <th>n_bare_raise_finally</th>\n",
       "    </tr>\n",
       "  </thead>\n",
       "  <tbody>\n",
       "    <tr>\n",
       "      <th>count</th>\n",
       "      <td>24044.0</td>\n",
       "      <td>24044.0</td>\n",
       "      <td>NaN</td>\n",
       "      <td>NaN</td>\n",
       "      <td>NaN</td>\n",
       "      <td>NaN</td>\n",
       "      <td>NaN</td>\n",
       "      <td>NaN</td>\n",
       "      <td>NaN</td>\n",
       "    </tr>\n",
       "    <tr>\n",
       "      <th>sum</th>\n",
       "      <td>NaN</td>\n",
       "      <td>NaN</td>\n",
       "      <td>529.0</td>\n",
       "      <td>642.0</td>\n",
       "      <td>40.0</td>\n",
       "      <td>150.0</td>\n",
       "      <td>9.0</td>\n",
       "      <td>397.0</td>\n",
       "      <td>0.0</td>\n",
       "    </tr>\n",
       "  </tbody>\n",
       "</table>\n",
       "</div>"
      ],
      "text/plain": [
       "          file  function  n_try_pass  n_generic_except  n_nested_try  \\\n",
       "count  24044.0   24044.0         NaN               NaN           NaN   \n",
       "sum        NaN       NaN       529.0             642.0          40.0   \n",
       "\n",
       "       n_bare_except  n_captures_misplaced_bare_raise  n_captures_broad_raise  \\\n",
       "count            NaN                              NaN                     NaN   \n",
       "sum            150.0                              9.0                   397.0   \n",
       "\n",
       "       n_bare_raise_finally  \n",
       "count                   NaN  \n",
       "sum                     0.0  "
      ]
     },
     "execution_count": 19,
     "metadata": {},
     "output_type": "execute_result"
    }
   ],
   "source": [
    "df_rq5"
   ]
  }
 ],
 "metadata": {
  "kernelspec": {
   "display_name": "env",
   "language": "python",
   "name": "python3"
  },
  "language_info": {
   "codemirror_mode": {
    "name": "ipython",
    "version": 3
   },
   "file_extension": ".py",
   "mimetype": "text/x-python",
   "name": "python",
   "nbconvert_exporter": "python",
   "pygments_lexer": "ipython3",
   "version": "3.10.6"
  }
 },
 "nbformat": 4,
 "nbformat_minor": 2
}
