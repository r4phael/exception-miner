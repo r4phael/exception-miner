{
 "cells": [
  {
   "cell_type": "code",
   "execution_count": 18,
   "metadata": {},
   "outputs": [],
   "source": [
    "import configparser\n",
    "import requests     \n",
    "\n",
    "config = configparser.ConfigParser()\n",
    "config.read(\"../.env\")\n",
    "token = config[\"github\"][\"token\"]\n",
    "\n",
    "build_commit_url = lambda project, commit: f\"https://api.github.com/repos/{project}/commits/{commit}\"\n",
    "build_issue_url = lambda project, issue: f\"https://api.github.com/repos/{project}/issues/{issue}\"\n",
    "build_pulls_url = lambda project, pull: f\"https://api.github.com/repos/{project}/pulls/{pull}\"\n",
    "build_pull_commits_url = lambda project, pull: f\"https://api.github.com/repos/{project}/pulls/{pull}/commits\"\n",
    "\n",
    "headers = {\n",
    "    \"Accept\": \"application/vnd.github+json\",\n",
    "    \"Authorization\": f\"Bearer {token}\",\n",
    "    \"X-GitHub-Api-Version\": \"2022-11-28\"\n",
    "}"
   ]
  },
  {
   "cell_type": "code",
   "execution_count": 1,
   "metadata": {},
   "outputs": [],
   "source": [
    "import pandas as pd\n",
    "\n",
    "df = pd.read_csv(\"/mnt/c/Users/eric3/OneDrive/Área de Trabalho/artigos/drive-download-20230420T172507Z-001/issues_excepts_eric.csv\")"
   ]
  },
  {
   "cell_type": "code",
   "execution_count": 3,
   "metadata": {},
   "outputs": [
    {
     "data": {
      "text/plain": [
       "Index(['project', 'type', 'hash', 'issue_number', 'commit_msg', 'author_name',\n",
       "       'author_date', 'merge', 'url_issue', 'bug_classification', 'root_cause',\n",
       "       'fix_type'],\n",
       "      dtype='object')"
      ]
     },
     "execution_count": 3,
     "metadata": {},
     "output_type": "execute_result"
    }
   ],
   "source": [
    "df.columns"
   ]
  },
  {
   "cell_type": "code",
   "execution_count": 17,
   "metadata": {},
   "outputs": [
    {
     "data": {
      "text/plain": [
       "project         celery\n",
       "issue_number    6102.0\n",
       "Name: 0, dtype: object"
      ]
     },
     "execution_count": 17,
     "metadata": {},
     "output_type": "execute_result"
    }
   ],
   "source": [
    "df[['project', 'issue_number']].iloc[0]"
   ]
  },
  {
   "cell_type": "code",
   "execution_count": 14,
   "metadata": {},
   "outputs": [],
   "source": [
    "project, issue_number = df[['project', 'issue_number']].iloc[0]\n",
    "\n",
    "request = requests.get(build_commit_url(\"celery/celery\", \"f33122546899176e79d99f9b9b1744b3abedafe7\"), headers=headers)"
   ]
  },
  {
   "cell_type": "code",
   "execution_count": 15,
   "metadata": {},
   "outputs": [
    {
     "data": {
      "text/plain": [
       "{'sha': 'f33122546899176e79d99f9b9b1744b3abedafe7',\n",
       " 'node_id': 'MDY6Q29tbWl0MTg0NDYwOmYzMzEyMjU0Njg5OTE3NmU3OWQ5OWY5YjliMTc0NGIzYWJlZGFmZTc=',\n",
       " 'commit': {'author': {'name': 'Mathieu Chataigner',\n",
       "   'email': 'm.chataigner@criteo.com',\n",
       "   'date': '2020-05-15T12:58:34Z'},\n",
       "  'committer': {'name': 'Mathieu Chataigner',\n",
       "   'email': 'm.chataigner@criteo.com',\n",
       "   'date': '2020-05-15T12:59:19Z'},\n",
       "  'message': 'do not load docs.txt requirements for python 2.7\\n\\nAs it requires Sphinx >= 2.0.0 and there is no such version compatible\\nwith python 2.7',\n",
       "  'tree': {'sha': '9041950575c4a434d8fd98b77c7d0c0548c2bae6',\n",
       "   'url': 'https://api.github.com/repos/celery/celery/git/trees/9041950575c4a434d8fd98b77c7d0c0548c2bae6'},\n",
       "  'url': 'https://api.github.com/repos/celery/celery/git/commits/f33122546899176e79d99f9b9b1744b3abedafe7',\n",
       "  'comment_count': 0,\n",
       "  'verification': {'verified': False,\n",
       "   'reason': 'unsigned',\n",
       "   'signature': None,\n",
       "   'payload': None}},\n",
       " 'url': 'https://api.github.com/repos/celery/celery/commits/f33122546899176e79d99f9b9b1744b3abedafe7',\n",
       " 'html_url': 'https://github.com/celery/celery/commit/f33122546899176e79d99f9b9b1744b3abedafe7',\n",
       " 'comments_url': 'https://api.github.com/repos/celery/celery/commits/f33122546899176e79d99f9b9b1744b3abedafe7/comments',\n",
       " 'author': {'login': 'mchataigner',\n",
       "  'id': 2926444,\n",
       "  'node_id': 'MDQ6VXNlcjI5MjY0NDQ=',\n",
       "  'avatar_url': 'https://avatars.githubusercontent.com/u/2926444?v=4',\n",
       "  'gravatar_id': '',\n",
       "  'url': 'https://api.github.com/users/mchataigner',\n",
       "  'html_url': 'https://github.com/mchataigner',\n",
       "  'followers_url': 'https://api.github.com/users/mchataigner/followers',\n",
       "  'following_url': 'https://api.github.com/users/mchataigner/following{/other_user}',\n",
       "  'gists_url': 'https://api.github.com/users/mchataigner/gists{/gist_id}',\n",
       "  'starred_url': 'https://api.github.com/users/mchataigner/starred{/owner}{/repo}',\n",
       "  'subscriptions_url': 'https://api.github.com/users/mchataigner/subscriptions',\n",
       "  'organizations_url': 'https://api.github.com/users/mchataigner/orgs',\n",
       "  'repos_url': 'https://api.github.com/users/mchataigner/repos',\n",
       "  'events_url': 'https://api.github.com/users/mchataigner/events{/privacy}',\n",
       "  'received_events_url': 'https://api.github.com/users/mchataigner/received_events',\n",
       "  'type': 'User',\n",
       "  'site_admin': False},\n",
       " 'committer': {'login': 'mchataigner',\n",
       "  'id': 2926444,\n",
       "  'node_id': 'MDQ6VXNlcjI5MjY0NDQ=',\n",
       "  'avatar_url': 'https://avatars.githubusercontent.com/u/2926444?v=4',\n",
       "  'gravatar_id': '',\n",
       "  'url': 'https://api.github.com/users/mchataigner',\n",
       "  'html_url': 'https://github.com/mchataigner',\n",
       "  'followers_url': 'https://api.github.com/users/mchataigner/followers',\n",
       "  'following_url': 'https://api.github.com/users/mchataigner/following{/other_user}',\n",
       "  'gists_url': 'https://api.github.com/users/mchataigner/gists{/gist_id}',\n",
       "  'starred_url': 'https://api.github.com/users/mchataigner/starred{/owner}{/repo}',\n",
       "  'subscriptions_url': 'https://api.github.com/users/mchataigner/subscriptions',\n",
       "  'organizations_url': 'https://api.github.com/users/mchataigner/orgs',\n",
       "  'repos_url': 'https://api.github.com/users/mchataigner/repos',\n",
       "  'events_url': 'https://api.github.com/users/mchataigner/events{/privacy}',\n",
       "  'received_events_url': 'https://api.github.com/users/mchataigner/received_events',\n",
       "  'type': 'User',\n",
       "  'site_admin': False},\n",
       " 'parents': [{'sha': '6e091573f2ab0d0989b8d7c26b677c80377c1721',\n",
       "   'url': 'https://api.github.com/repos/celery/celery/commits/6e091573f2ab0d0989b8d7c26b677c80377c1721',\n",
       "   'html_url': 'https://github.com/celery/celery/commit/6e091573f2ab0d0989b8d7c26b677c80377c1721'}],\n",
       " 'stats': {'total': 2, 'additions': 1, 'deletions': 1},\n",
       " 'files': [{'sha': '0e67c97ad72e20835d0dff8fa8eee646bb60dec6',\n",
       "   'filename': 'tox.ini',\n",
       "   'status': 'modified',\n",
       "   'additions': 1,\n",
       "   'deletions': 1,\n",
       "   'changes': 2,\n",
       "   'blob_url': 'https://github.com/celery/celery/blob/f33122546899176e79d99f9b9b1744b3abedafe7/tox.ini',\n",
       "   'raw_url': 'https://github.com/celery/celery/raw/f33122546899176e79d99f9b9b1744b3abedafe7/tox.ini',\n",
       "   'contents_url': 'https://api.github.com/repos/celery/celery/contents/tox.ini?ref=f33122546899176e79d99f9b9b1744b3abedafe7',\n",
       "   'patch': '@@ -14,10 +14,10 @@ envlist =\\n deps=\\n     -r{toxinidir}/requirements/default.txt\\n     -r{toxinidir}/requirements/test.txt\\n-    -r{toxinidir}/requirements/docs.txt\\n     -r{toxinidir}/requirements/pkgutils.txt\\n \\n     2.7,3.5,3.6,3.7,3.8: -r{toxinidir}/requirements/test-ci-default.txt\\n+    3.5,3.6,3.7,3.8: -r{toxinidir}/requirements/docs.txt\\n     pypy,pypy3: -r{toxinidir}/requirements/test-ci-base.txt\\n \\n     integration: -r{toxinidir}/requirements/test-integration.txt'}]}"
      ]
     },
     "execution_count": 15,
     "metadata": {},
     "output_type": "execute_result"
    }
   ],
   "source": [
    "request.json()"
   ]
  }
 ],
 "metadata": {
  "kernelspec": {
   "display_name": "venv",
   "language": "python",
   "name": "python3"
  },
  "language_info": {
   "codemirror_mode": {
    "name": "ipython",
    "version": 3
   },
   "file_extension": ".py",
   "mimetype": "text/x-python",
   "name": "python",
   "nbconvert_exporter": "python",
   "pygments_lexer": "ipython3",
   "version": "3.10.6"
  },
  "orig_nbformat": 4
 },
 "nbformat": 4,
 "nbformat_minor": 2
}
